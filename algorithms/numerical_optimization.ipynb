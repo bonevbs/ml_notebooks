{
 "cells": [
  {
   "cell_type": "markdown",
   "metadata": {},
   "source": [
    "# Numerical Optimization\n",
    "\n",
    "## Introduction\n",
    "\n",
    "We consider convex problems with sufficient regularity. Algorithms that use these properties can be broadly classified as either **Line Search** methods or **Trust Region** methods.\n",
    "\n",
    "### Taylor's theorem\n",
    "\n",
    "Suppose that $f: \\mathbb{R}^n \\rightarrow \\mathbb{R}$  is continuously differentiable and that $p \\in \\mathbb{R}^n$. Then, we have that\n",
    "$$f(x+p) = f(x) + \\nabla f(x + tp)^T p,$$\n",
    "for some $t \\in (0,1)$. Furthermore, if $f$ is twice continuously differentiable,\n",
    "$$\\nabla f(x+p) = \\nabla f(x) + \\int_0^1 \\nabla^2 f(x+tp) p\\;\\mathrm{d}t,$$\n",
    "which implies\n",
    "$$f(x+p) = f(x) + \\nabla f(x)^T p + \\frac{1}{2}p^T \\nabla^2 f(x+tp) p,$$\n",
    "for some $t \\in (0,1)$."
   ]
  },
  {
   "cell_type": "markdown",
   "metadata": {},
   "source": [
    "## Preparation\n",
    "\n",
    "Before we explore some approaches, we need a differentiable function complete with gradient information. We will use `PyTorch` and its auto-differentiation capabilities."
   ]
  },
  {
   "cell_type": "code",
   "execution_count": 2,
   "metadata": {},
   "outputs": [],
   "source": [
    "import numpy as np\n",
    "import matplotlib.pyplot as plt\n",
    "\n",
    "import torch\n",
    "import torch.autograd as autograd"
   ]
  },
  {
   "cell_type": "markdown",
   "metadata": {},
   "source": [
    "Let us define an objective function, for which we would like to find the minimum."
   ]
  },
  {
   "cell_type": "code",
   "execution_count": 192,
   "metadata": {},
   "outputs": [],
   "source": [
    "n = 2\n",
    "\n",
    "class fun(torch.nn.Module):\n",
    "  def __init__(self, D_in):\n",
    "    super().__init__()\n",
    "    self.c = torch.randn(1)\n",
    "    self.b = torch.randn(D_in, 1)\n",
    "    self.A = np.random.standard_exponential((D_in,D_in))\n",
    "    #self.A = np.tril(self.A) + np.tril(self.A, -1).T\n",
    "    self.A = torch.from_numpy(self.A).float()\n",
    "    self.A = self.A.T @ self.A\n",
    "  def forward(self, x):\n",
    "    x = torch.from_numpy(x).float()\n",
    "    x.requires_grad = True\n",
    "    y = torch.sum(x * (self.A@x), 0) - 2.0 * self.b.T @ x + self.c\n",
    "    return y\n",
    "    \n",
    "objective_function = fun(n)"
   ]
  },
  {
   "cell_type": "code",
   "execution_count": 193,
   "metadata": {},
   "outputs": [
    {
     "data": {
      "text/plain": [
       "array([[0.255753  ],\n",
       "       [0.14744262]])"
      ]
     },
     "execution_count": 193,
     "metadata": {},
     "output_type": "execute_result"
    }
   ],
   "source": [
    "# getting the gradient\n",
    "x0 = np.random.rand(2,1)\n",
    "f0 = objective_function(x0) # forward pass\n",
    "grad = f0.backward() # after having computed one step, this will compute the gradient\n",
    "x0"
   ]
  },
  {
   "cell_type": "code",
   "execution_count": 207,
   "metadata": {},
   "outputs": [],
   "source": [
    "x = np.linspace(-10, 10, 40)\n",
    "y = np.linspace(-10, 10, 40)\n",
    "X, Y = np.meshgrid(x, y)\n",
    "grid = np.vstack((X.flatten(),Y.flatten()))\n",
    "Z = objective_function(grid)\n",
    "Z = np.reshape(Z.detach().numpy(), (40,40))"
   ]
  },
  {
   "cell_type": "code",
   "execution_count": 217,
   "metadata": {},
   "outputs": [
    {
     "data": {
      "image/png": "[encoded data removed]",
      "text/plain": [
       "<Figure size 684x540 with 2 Axes>"
      ]
     },
     "metadata": {
      "needs_background": "light"
     },
     "output_type": "display_data"
    }
   ],
   "source": [
    "plt.gca().set_aspect(\"equal\")\n",
    "plt.gcf().set_size_inches(9.5, 7.5)\n",
    "contourplot = plt.contourf(X, Y, Z, levels=np.linspace(-np.amax(Z),np.amax(Z),50))\n",
    "cbar = plt.colorbar(contourplot)\n",
    "plt.show()"
   ]
  },
  {
   "cell_type": "markdown",
   "metadata": {},
   "source": [
    "## Steepest Descent Optimizer\n",
    "\n",
    "The core idea of Line Search method is to pick a descent direction $p_k$ and a step size $\\alpha$. The natural choice for $p_k$ is to take $-\\nabla f(x_k)$. Taking the appropriate step size is a more difficult problem to solve."
   ]
  },
  {
   "cell_type": "code",
   "execution_count": null,
   "metadata": {},
   "outputs": [],
   "source": [
    "def backtrack(f0, alpha0, x, p):\n",
    "  t = -0.5*np.norm(f0)\n",
    "  j = 0\n",
    "  while "
   ]
  },
  {
   "cell_type": "code",
   "execution_count": null,
   "metadata": {},
   "outputs": [],
   "source": [
    "def iterate(f, x0, alpha):\n",
    "  f0 = f(x0)\n",
    "  p0 = f0.backward()\n",
    "  # compute the Wolfe condition\n",
    "  return x0 - alpha*p0\n",
    "  "
   ]
  }
 ],
 "metadata": {
  "interpreter": {
   "hash": "ac2eaa0ea0ebeafcc7822e65e46aa9d4f966f30b695406963e145ea4a91cd4fc"
  },
  "kernelspec": {
   "display_name": "Python 3.9.6 64-bit",
   "name": "python3"
  },
  "language_info": {
   "codemirror_mode": {
    "name": "ipython",
    "version": 3
   },
   "file_extension": ".py",
   "mimetype": "text/x-python",
   "name": "python",
   "nbconvert_exporter": "python",
   "pygments_lexer": "ipython3",
   "version": "3.9.9"
  },
  "orig_nbformat": 4
 },
 "nbformat": 4,
 "nbformat_minor": 2
}
