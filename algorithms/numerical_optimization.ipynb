{
 "cells": [
  {
   "cell_type": "markdown",
   "metadata": {},
   "source": [
    "# Numerical Optimization\n",
    "\n",
    "## Introduction\n",
    "\n",
    "We consider convex problems with sufficient regularity. Algorithms that use these properties can be broadly classified as either **Line Search** methods or **Trust Region** methods.\n",
    "\n",
    "### Taylor's theorem\n",
    "\n",
    "Suppose that $f: \\mathbb{R}^n \\rightarrow \\mathbb{R}$  is continuously differentiable and that $p \\in \\mathbb{R}^n$. Then, we have that\n",
    "$$f(x+p) = f(x) + \\nabla f(x + tp)^T p,$$\n",
    "for some $t \\in (0,1)$. Furthermore, if $f$ is twice continuously differentiable,\n",
    "$$\\nabla f(x+p) = \\nabla f(x) + \\int_0^1 \\nabla^2 f(x+tp) p\\;\\mathrm{d}t,$$\n",
    "which implies\n",
    "$$f(x+p) = f(x) + \\nabla f(x)^T p + \\frac{1}{2}p^T \\nabla^2 f(x+tp) p,$$\n",
    "for some $t \\in (0,1)$."
   ]
  },
  {
   "cell_type": "markdown",
   "metadata": {},
   "source": [
    "## Preparation\n",
    "\n",
    "Before we explore some approaches, we need a differentiable function complete with gradient information. We will use `PyTorch` and its auto-differentiation capabilities."
   ]
  },
  {
   "cell_type": "code",
   "execution_count": 10,
   "metadata": {},
   "outputs": [],
   "source": [
    "import numpy as np\n",
    "import matplotlib.pyplot as plt\n",
    "\n",
    "import torch\n",
    "import torch.autograd as autograd"
   ]
  },
  {
   "cell_type": "markdown",
   "metadata": {},
   "source": [
    "Let us define an objective function, for which we would like to find the minimum."
   ]
  },
  {
   "cell_type": "code",
   "execution_count": 11,
   "metadata": {},
   "outputs": [],
   "source": [
    "n = 2\n",
    "\n",
    "class fun(torch.nn.Module):\n",
    "  def __init__(self, D_in):\n",
    "    super().__init__()\n",
    "    self.c = torch.randn(1)\n",
    "    self.b = torch.randn(D_in, 1)\n",
    "    self.A = np.random.standard_exponential((D,D))\n",
    "    self.A = torch.from_numpy(np.tril(self.A) + np.tril(self.A, -1).T)\n",
    "    self.A = self.A.T @ self.A\n",
    "  def forward(self, x):\n",
    "    return x.T@self.A@x + b.T@x + self.c\n",
    "\n",
    "objective_function = fun(n)"
   ]
  },
  {
   "cell_type": "markdown",
   "metadata": {},
   "source": [
    "## Steepest Descent Optimizer\n",
    "\n",
    "The core idea of Line Search method is to pick a descent direction $p_k$ and a step size $\\alpha$."
   ]
  },
  {
   "cell_type": "code",
   "execution_count": null,
   "metadata": {},
   "outputs": [],
   "source": []
  }
 ],
 "metadata": {
  "interpreter": {
   "hash": "ac2eaa0ea0ebeafcc7822e65e46aa9d4f966f30b695406963e145ea4a91cd4fc"
  },
  "kernelspec": {
   "display_name": "Python 3.9.6 64-bit",
   "name": "python3"
  },
  "language_info": {
   "codemirror_mode": {
    "name": "ipython",
    "version": 3
   },
   "file_extension": ".py",
   "mimetype": "text/x-python",
   "name": "python",
   "nbconvert_exporter": "python",
   "pygments_lexer": "ipython3",
   "version": "3.9.7"
  },
  "orig_nbformat": 4
 },
 "nbformat": 4,
 "nbformat_minor": 2
}
