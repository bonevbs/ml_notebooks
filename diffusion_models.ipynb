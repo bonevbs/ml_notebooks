{
 "cells": [
  {
   "cell_type": "markdown",
   "metadata": {},
   "source": [
    "# Diffusion models\n",
    "\n",
    "## Introduction\n",
    "\n",
    "Recently, diffusion models have emerged as the top contender for generative models. Let us explore diffusion models and get some intuition on how they work."
   ]
  },
  {
   "cell_type": "markdown",
   "metadata": {},
   "source": [
    "## Preparing the dataset\n",
    "\n",
    "let us load `torch` as well as some data to approximate. For our purposes, we will use the MNIST dataset"
   ]
  },
  {
   "cell_type": "code",
   "execution_count": 1,
   "metadata": {},
   "outputs": [],
   "source": [
    "import torch\n",
    "import torch.nn as nn\n",
    "from torch.nn import functional as F\n",
    "import torchvision\n",
    "import torchvision.datasets as datasets\n",
    "\n",
    "import matplotlib.pyplot as plt\n",
    "\n",
    "plt.rcParams['figure.figsize'] = (6,4)\n",
    "plt.rcParams['figure.dpi'] = 100"
   ]
  },
  {
   "cell_type": "code",
   "execution_count": 2,
   "metadata": {},
   "outputs": [],
   "source": [
    "# enable GPU training\n",
    "device = torch.device('cuda' if torch.cuda.is_available() else 'cpu')"
   ]
  },
  {
   "cell_type": "code",
   "execution_count": 3,
   "metadata": {},
   "outputs": [],
   "source": [
    "mnist_trainset = datasets.MNIST(root='./data', train=True, download=True, transform=None)"
   ]
  },
  {
   "cell_type": "markdown",
   "metadata": {},
   "source": [
    "Let us visualize some examples from the dataset:"
   ]
  },
  {
   "cell_type": "code",
   "execution_count": 4,
   "metadata": {},
   "outputs": [
    {
     "data": {
      "image/png": "[encoded data removed]",
      "text/plain": [
       "<Figure size 432x288 with 5 Axes>"
      ]
     },
     "metadata": {
      "needs_background": "light"
     },
     "output_type": "display_data"
    }
   ],
   "source": [
    "fig = plt.figure()\n",
    "for i in range(0,5):\n",
    "    ax = plt.subplot(1,5,i+1)\n",
    "    data = mnist_trainset[i]\n",
    "    ax.imshow(data[0])\n",
    "    ax.set_title(f\"x = {data[1]}\")\n",
    "fig.tight_layout()"
   ]
  },
  {
   "cell_type": "markdown",
   "metadata": {},
   "source": [
    "## Preliminaries\n",
    "\n",
    "generative model, i.e. we want to approximate $p(x)$ using some learned distribution $p_\\theta(x)$.\n",
    "### Forward diffusion process\n",
    "Let $x_0 \\sim q(x)$ be a data point sampled from some distribution. We define the _forward_ diffusion proces, in which we add a small amount of Gaussian noise to the sample. We repeat this $T$ times, which gives us the sequen_channelse of noisy samples $x_1, x_2, \\dots, x_T$. The varian_channelse at each step is controlled at each step $t$ by some $\\beta_t \\in (0,1)$, such that\n",
    "\n",
    "$$\n",
    "q(x_t \\vert x_{t-1}) = \\mathcal{N} (x_t \\vert \\sqrt{1 - \\beta_t} x_{t-1}, \\beta_t I).\n",
    "$$\n",
    "\n",
    "In other words, at each diffusion step, the conditional distribution $q(x_t \\vert x_{t-1})$ is a gaussian with isotropic varian_channelse $\\beta_t$ and mean $\\sqrt{1 - \\beta_t} x_{t-1}$. In the limit $T \\rightarrow \\infty$, the distribution approaches uniform Gaussian noise, i.e. $x_T \\sim \\mathcal{N}(0, I)$.\n",
    "\n",
    "A useful identity is to reparametrize these distributions in terms of $\\alpha_t = 1 - \\beta_t$ and $\\bar{\\alpha}_t = \\prod_{i=1}^T \\alpha_i$. Introducing $z_{t-1}, z_{t-2}, \\dots \\sim \\mathcal{N}(0,1)$, we get\n",
    "\n",
    "$$\n",
    "\\begin{align*}\n",
    "x_t &= \\sqrt{\\alpha_t} x_{t-1} + \\sqrt{1 - \\alpha_t} z_{t-1} \\\\\n",
    "&= \\sqrt{\\alpha_t \\alpha_{t-1}} x_{t-2} + \\sqrt{1 - \\alpha_t} \\bar{z}_{t-2} \\\\\n",
    "&= \\dots \\\\\n",
    "&= \\sqrt{\\bar{\\alpha}_t} x_{0} + \\sqrt{1 - \\bar{\\alpha}_t} z\n",
    "\\end{align*}\n",
    "$$\n",
    "\n",
    "Here we have also introduced $\\bar{z}_{t-2}$, which merges two Gaussian random variables as a new Gaussian random variable with variance $(1 - \\alpha_t) + \\alpha_t (1 - \\alpha_{t-1}) = 1 - \\alpha_t \\alpha_{t-1}$. As a consequence, we have\n",
    "\n",
    "$$\n",
    "q(x_t \\vert x_0) = \\mathcal{N}(x_t \\vert \\sqrt{\\bar{\\alpha}_t} x_0, (1 - \\bar{\\alpha}_t) I).\n",
    "$$\n",
    "\n",
    "### Langevin dynamics\n",
    "\n",
    "The concept of Langevin dynamics allows us to generate samples from a distribution $p(x)$, only using the gradients $\\nabla_{x} \\log p\\left(x_{t-1}\\right)$.\n",
    "\n",
    "$$\n",
    "x_{t}=x_{t-1}+\\frac{\\epsilon}{2} \\nabla_{x} \\log p\\left(x_{t-1}\\right)+\\sqrt{\\epsilon} z_{t}, \\quad \\text{where} z_{t} \\sim \\mathcal{N}(0, I)\n",
    "$$\n",
    "\n",
    "When $T \\rightarrow \\infty$, $x_T \\sim p(x)$.\n",
    "\n",
    "### Reverse diffusion process\n",
    "We would like to reverse the diffusion process and sample from $q(x_{t-1} \\vert x_t)$, starting from a Gaussian noise input $x_T \\sim \\mathcal{N}(0, I)$. An import observation is that for sufficiently small $\\beta_t$, $q(x_{t-1} \\vert x_t)$ will also be Gaussian. To estimate it, we would need to use the entire dataset, which is unpractical, so instead we train a model \n",
    "\n",
    "$$\n",
    "p_\\theta(x_{t-1} \\vert x_t) = \\mathcal{N}(x_{t-1} \\vert \\mu_\\theta(x_t, t), \\Sigma_\\theta(x_t, t)),\n",
    "$$\n",
    "\n",
    "to approximate $q(x_{t-1} \\vert x_t)$.\n",
    "\n",
    "An important property is that $q\\left(x_{t-1} \\mid x_{t}, x_{0}\\right)$ becomes tractable when conditioned on $x_0$:\n",
    "\n",
    "$$\n",
    "\\begin{align*}\n",
    "q\\left(x_{t-1} \\mid x_{t}, x_{0}\\right) &=q\\left(x_{t} \\mid x_{t-1}, x_{0}\\right) \\frac{q\\left(x_{t-1} \\mid x_{0}\\right)}{q\\left(x_{t} \\mid x_{0}\\right)} \\\\\n",
    "&\\dots \\\\\n",
    "&\\propto\\exp \\left(-\\frac{1}{2}\\left(\\left(\\frac{\\alpha_{t}}{\\beta_{t}}+\\frac{1}{1-\\bar{\\alpha}_{t-1}}\\right) x_{t-1}^{2}-\\left(\\frac{2 \\sqrt{\\alpha_{t}}}{\\beta_{t}} x_{t}+\\frac{2 \\sqrt{\\bar{\\alpha}_{t-1}}}{1-\\bar{\\alpha}_{t-1}} x_{0}\\right) x_{t-1}+C\\left(x_{t}, x_{0}\\right)\\right)\\right),\n",
    "\\end{align*}\n",
    "$$\n",
    "\n",
    "where $C(x_{t}, x_{0})$ is some function that does not depend on $x_{t-1}$ and therefore a constant term in the distribution. We can rewrite all of this and identify that this is a Gaussian with mean and variance\n",
    "\n",
    "$$\n",
    "\\begin{align*} \\tilde{\\beta}_{t} &=\\frac{1-\\bar{\\alpha}_{t-1}}{1-\\bar{\\alpha}_{t}} \\cdot \\beta_{t} \\\\\n",
    "\\tilde{\\mu}_{t}\\left(x_{t}, x_{0}\\right) &=\\frac{\\sqrt{\\alpha_{t}}\\left(1-\\bar{\\alpha}_{t-1}\\right)}{1-\\bar{\\alpha}_{t}} x_{t}+\\frac{\\sqrt{\\bar{\\alpha}_{t-1}} \\beta_{t}}{1-\\bar{\\alpha}_{t}} x_{0}\n",
    "\\end{align*}\n",
    "$$\n",
    "\n",
    "This seems preblematic, as we still do not know, $x_{0}$, but thanks to the reparametrization trick, we can plug in $x_{0}=\\frac{1}{\\sqrt{\\bar{\\alpha}_{t}}}\\left(x_{t}-\\sqrt{1-\\bar{\\alpha}_{t}} z_{t}\\right)$, which then yields \n",
    "\n",
    "$$\n",
    "\\tilde{\\mu}_{t}\n",
    "% =\\frac{\\sqrt{\\alpha_{t}}\\left(1-\\bar{\\alpha}_{t-1}\\right)}{1-\\bar{\\alpha}_{t}} x_{t}+\\frac{\\sqrt{\\bar{\\alpha}_{t-1}} \\beta_{t}}{1-\\bar{\\alpha}_{t}} \\frac{1}{\\sqrt{\\bar{\\alpha}_{t}}}\\left(x_{t}-\\sqrt{1-\\bar{\\alpha}_{t} z_{t}}\\right)\n",
    "=\\frac{1}{\\sqrt{\\alpha_{t}}}\\left(x_{t}-\\frac{\\beta_{t}}{\\sqrt{1-\\bar{\\alpha}_{t}}} z_t\\right).\n",
    "$$\n",
    "\n",
    "For training, we can use a similar setup to what is done in other generative models, such as VAEs.\n",
    "\n",
    "![](https://lilianweng.github.io/posts/2021-07-11-diffusion-models/DDPM.png)"
   ]
  },
  {
   "cell_type": "markdown",
   "metadata": {},
   "source": [
    "## In practice\n",
    "\n",
    "the algorithms for sampling and training the model can be summarized as follows:\n",
    "\n",
    "![](https://lilianweng.github.io/posts/2021-07-11-diffusion-models/DDPM-algo.png)"
   ]
  },
  {
   "cell_type": "markdown",
   "metadata": {},
   "source": [
    "### Defining samplers\n",
    "define sampler for the dataset"
   ]
  },
  {
   "cell_type": "code",
   "execution_count": 5,
   "metadata": {},
   "outputs": [],
   "source": [
    "def sample_mnist(batch_size):\n",
    "    dataset = torchvision.datasets.MNIST(root = './data/', train = True, download = True)\n",
    "    result = dataset.data[:batch_size].to(device).view(-1, 1, 28, 28).float()\n",
    "    return result\n",
    "\n",
    "n_samples = 65536\n",
    "training_data = sample_mnist(n_samples)"
   ]
  },
  {
   "cell_type": "code",
   "execution_count": 6,
   "metadata": {},
   "outputs": [
    {
     "data": {
      "text/plain": [
       "torch.Size([60000, 1, 28, 28])"
      ]
     },
     "execution_count": 6,
     "metadata": {},
     "output_type": "execute_result"
    }
   ],
   "source": [
    "training_data.shape"
   ]
  },
  {
   "cell_type": "markdown",
   "metadata": {},
   "source": [
    "For normalization we require the mean and standard deviation of out dataset:"
   ]
  },
  {
   "cell_type": "code",
   "execution_count": 7,
   "metadata": {},
   "outputs": [],
   "source": [
    "training_mean, training_std = training_data.mean(), training_data.std()"
   ]
  },
  {
   "cell_type": "markdown",
   "metadata": {},
   "source": [
    "### Define the model\n",
    "\n",
    "We define the model, which will approximate the denoising distribution:"
   ]
  },
  {
   "cell_type": "code",
   "execution_count": 8,
   "metadata": {},
   "outputs": [
    {
     "data": {
      "text/plain": [
       "ConvNet(\n",
       "  (core): Sequential(\n",
       "    (0): Conv2d(2, 64, kernel_size=(5, 5), stride=(1, 1), padding=(2, 2))\n",
       "    (1): ReLU()\n",
       "    (2): Conv2d(64, 64, kernel_size=(5, 5), stride=(1, 1), padding=(2, 2))\n",
       "    (3): ReLU()\n",
       "    (4): Conv2d(64, 64, kernel_size=(5, 5), stride=(1, 1), padding=(2, 2))\n",
       "    (5): ReLU()\n",
       "    (6): Conv2d(64, 64, kernel_size=(5, 5), stride=(1, 1), padding=(2, 2))\n",
       "    (7): ReLU()\n",
       "    (8): Conv2d(64, 64, kernel_size=(5, 5), stride=(1, 1), padding=(2, 2))\n",
       "    (9): ReLU()\n",
       "    (10): Conv2d(64, 1, kernel_size=(5, 5), stride=(1, 1), padding=(2, 2))\n",
       "  )\n",
       ")"
      ]
     },
     "execution_count": 8,
     "metadata": {},
     "output_type": "execute_result"
    }
   ],
   "source": [
    "class ConvNet(nn.Module):\n",
    "\n",
    "    def __init__(self, in_channels, out_channels):\n",
    "\n",
    "        super().__init__()\n",
    "        \n",
    "        kernel_size = 5\n",
    "        n_channels = 64\n",
    "        \n",
    "        self.core = nn.Sequential(\n",
    "            nn.Conv2d(in_channels + 1, n_channels, kernel_size, padding = kernel_size//2),\n",
    "            nn.ReLU(),\n",
    "            nn.Conv2d(n_channels, n_channels, kernel_size, padding = kernel_size//2),\n",
    "            nn.ReLU(),\n",
    "            nn.Conv2d(n_channels, n_channels, kernel_size, padding = kernel_size//2),\n",
    "            nn.ReLU(),\n",
    "            nn.Conv2d(n_channels, n_channels, kernel_size, padding = kernel_size//2),\n",
    "            nn.ReLU(),\n",
    "            nn.Conv2d(n_channels, n_channels, kernel_size, padding = kernel_size//2),\n",
    "            nn.ReLU(),\n",
    "            nn.Conv2d(n_channels, out_channels, kernel_size, padding = kernel_size//2),\n",
    "        )\n",
    "    \n",
    "    def forward(self, input):\n",
    "        x, t = input\n",
    "        if not torch.is_tensor(t):\n",
    "            t = x.new_full((x.size(0),), t)\n",
    "        t = t.view((-1,) + (1,) * (x.dim() - 1)).expand_as(x[:,:1])\n",
    "        return self.core(torch.cat((x, t), 1))\n",
    "\n",
    "model = ConvNet(training_data.size(1), training_data.size(1))\n",
    "model.to(device)"
   ]
  },
  {
   "cell_type": "markdown",
   "metadata": {},
   "source": [
    "### Training the model\n",
    "\n",
    "wewill use ADAM to optimize our model. Let us first determine the hyperparameters as they were defined in Ho et al.:"
   ]
  },
  {
   "cell_type": "code",
   "execution_count": 9,
   "metadata": {},
   "outputs": [],
   "source": [
    "T = 1000\n",
    "beta = torch.linspace(1e-4, 0.02, T, device=device)\n",
    "alpha = 1 - beta\n",
    "alpha_bar = alpha.log().cumsum(0).exp()\n",
    "sigma = beta.sqrt()"
   ]
  },
  {
   "cell_type": "code",
   "execution_count": 10,
   "metadata": {},
   "outputs": [
    {
     "name": "stdout",
     "output_type": "stream",
     "text": [
      "epoch: 0 loss: 0.09506426229774952\n",
      "epoch: 1 loss: 0.0496705472479264\n",
      "epoch: 2 loss: 0.10015559994379679\n",
      "epoch: 3 loss: 0.05478452536761761\n",
      "epoch: 4 loss: 0.04774375363787015\n",
      "epoch: 5 loss: 0.04534570259451866\n",
      "epoch: 6 loss: 0.04311676119367282\n",
      "epoch: 7 loss: 0.042586187487840654\n",
      "epoch: 8 loss: 0.0409397339651982\n",
      "epoch: 9 loss: 0.04011734099388123\n",
      "epoch: 10 loss: 0.040205454724033675\n",
      "epoch: 11 loss: 0.03942767694393794\n",
      "epoch: 12 loss: 0.03904419451653957\n",
      "epoch: 13 loss: 0.03864361907740434\n",
      "epoch: 14 loss: 0.03888168223897616\n",
      "epoch: 15 loss: 0.037786284789443014\n",
      "epoch: 16 loss: 0.03785478172997633\n",
      "epoch: 17 loss: 0.03710315034488837\n",
      "epoch: 18 loss: 0.03717351695100466\n",
      "epoch: 19 loss: 0.03745960584133864\n",
      "epoch: 20 loss: 0.03662767000446717\n",
      "epoch: 21 loss: 0.03685322531958421\n",
      "epoch: 22 loss: 0.03672707702269157\n",
      "epoch: 23 loss: 0.03658906747748454\n",
      "epoch: 24 loss: 0.03672267760634422\n",
      "epoch: 25 loss: 0.03638336846381426\n",
      "epoch: 26 loss: 0.036482974069317185\n",
      "epoch: 27 loss: 0.036188600547611714\n",
      "epoch: 28 loss: 0.035800580429037415\n",
      "epoch: 29 loss: 0.035970610415935515\n",
      "epoch: 30 loss: 0.036372543459633984\n",
      "epoch: 31 loss: 0.03554357558290164\n",
      "epoch: 32 loss: 0.03644986181457838\n",
      "epoch: 33 loss: 0.035879366359114644\n",
      "epoch: 34 loss: 0.036304304273426534\n",
      "epoch: 35 loss: 0.03637639956623316\n",
      "epoch: 36 loss: 0.03604968770643075\n",
      "epoch: 37 loss: 0.036155842514832816\n",
      "epoch: 38 loss: 0.03562783117492994\n",
      "epoch: 39 loss: 0.0359257154027621\n",
      "epoch: 40 loss: 0.035654818830887475\n",
      "epoch: 41 loss: 0.03593687714189291\n",
      "epoch: 42 loss: 0.03515026614864667\n",
      "epoch: 43 loss: 0.03526663060684999\n",
      "epoch: 44 loss: 0.03523800604542097\n",
      "epoch: 45 loss: 0.03532239615619183\n",
      "epoch: 46 loss: 0.03530803232192993\n",
      "epoch: 47 loss: 0.03530511852800846\n",
      "epoch: 48 loss: 0.03519526676237583\n",
      "epoch: 49 loss: 0.03546496895054976\n",
      "epoch: 50 loss: 0.03532227791845798\n",
      "epoch: 51 loss: 0.035122173297405246\n",
      "epoch: 52 loss: 0.03502913505832354\n",
      "epoch: 53 loss: 0.03540097306917111\n",
      "epoch: 54 loss: 0.034980459556976956\n",
      "epoch: 55 loss: 0.035302500118811926\n",
      "epoch: 56 loss: 0.03498065977493922\n",
      "epoch: 57 loss: 0.03505009567290544\n",
      "epoch: 58 loss: 0.03497863371471564\n",
      "epoch: 59 loss: 0.03487225183993578\n",
      "epoch: 60 loss: 0.03486695657769839\n",
      "epoch: 61 loss: 0.03488800142258406\n",
      "epoch: 62 loss: 0.03481198533872763\n",
      "epoch: 63 loss: 0.03477705691456795\n",
      "epoch: 64 loss: 0.034875698430836204\n",
      "epoch: 65 loss: 0.03458928833206495\n",
      "epoch: 66 loss: 0.03481313181022803\n",
      "epoch: 67 loss: 0.03520130809247494\n",
      "epoch: 68 loss: 0.034986478687326114\n",
      "epoch: 69 loss: 0.03461492595821619\n",
      "epoch: 70 loss: 0.035242122939229015\n",
      "epoch: 71 loss: 0.03446612462550402\n",
      "epoch: 72 loss: 0.03430244535704454\n",
      "epoch: 73 loss: 0.03478868342836698\n",
      "epoch: 74 loss: 0.03459467344383399\n",
      "epoch: 75 loss: 0.03446807305812836\n",
      "epoch: 76 loss: 0.03498432337939739\n",
      "epoch: 77 loss: 0.03429438656369845\n",
      "epoch: 78 loss: 0.03459474469125271\n",
      "epoch: 79 loss: 0.03469953887363275\n",
      "epoch: 80 loss: 0.034569885955750945\n",
      "epoch: 81 loss: 0.03455549881507953\n",
      "epoch: 82 loss: 0.034480016074081264\n",
      "epoch: 83 loss: 0.03443595244139433\n",
      "epoch: 84 loss: 0.0344985374857982\n",
      "epoch: 85 loss: 0.03436904665778081\n",
      "epoch: 86 loss: 0.03409228679339091\n",
      "epoch: 87 loss: 0.034357439864178496\n",
      "epoch: 88 loss: 0.03472789570291837\n",
      "epoch: 89 loss: 0.03428263322015603\n",
      "epoch: 90 loss: 0.034414426421622436\n",
      "epoch: 91 loss: 0.034098525056739645\n",
      "epoch: 92 loss: 0.03461135433614254\n",
      "epoch: 93 loss: 0.03432173639535904\n",
      "epoch: 94 loss: 0.0343550774221619\n",
      "epoch: 95 loss: 0.03432237251202266\n",
      "epoch: 96 loss: 0.03440757523377736\n",
      "epoch: 97 loss: 0.034581586201985676\n",
      "epoch: 98 loss: 0.034200375508268675\n",
      "epoch: 99 loss: 0.03436683498720328\n"
     ]
    }
   ],
   "source": [
    "n_epochs = 100\n",
    "learning_rate = 1e-3\n",
    "batch_size = 32\n",
    "optimizer = torch.optim.Adam(model.parameters(), lr = learning_rate)\n",
    "\n",
    "for epoch in range(n_epochs):\n",
    "\n",
    "    acc_loss = 0\n",
    "\n",
    "    for x0 in training_data.split(batch_size):\n",
    "        x0 = (x0 - training_mean) / training_std\n",
    "        t = torch.randint(T, (x0.size(0),) + (1,) * (x0.dim() - 1), device = x0.device)\n",
    "        eps = torch.randn_like(x0)\n",
    "        xt = torch.sqrt(alpha_bar[t]) * x0 + torch.sqrt(1 - alpha_bar[t]) * eps\n",
    "        output = model((xt, t / (T - 1) - 0.5))\n",
    "        loss = (eps - output).pow(2).mean()\n",
    "        acc_loss += loss.item() * x0.size(0)\n",
    "\n",
    "        optimizer.zero_grad()\n",
    "        loss.backward()\n",
    "        optimizer.step()\n",
    "\n",
    "    print(f'epoch: {epoch} loss: {acc_loss / training_data.size(0)}')\n"
   ]
  },
  {
   "cell_type": "markdown",
   "metadata": {},
   "source": [
    "### Sampling the model"
   ]
  },
  {
   "cell_type": "code",
   "execution_count": 15,
   "metadata": {},
   "outputs": [],
   "source": [
    "def sample_model(size, T, alpha, alpha_bar, sigma, model, train_mean, train_std):\n",
    "\n",
    "    with torch.no_grad():\n",
    "\n",
    "        x = torch.randn(size, device=device)\n",
    "\n",
    "        for t in range(T-1, -1, -1):\n",
    "            output = model((x, t / (T - 1) - 0.5)) # essentially z_\\theta\n",
    "            z = torch.zeros_like(x) if t == 0 else torch.randn_like(x)\n",
    "            x = ( 1 / torch.sqrt(alpha[t]) ) * (x - (1-alpha[t]) / torch.sqrt(1-alpha_bar[t]) * output) + sigma[t] * z\n",
    "\n",
    "        x = x * train_std + train_mean\n",
    "\n",
    "        return x\n"
   ]
  },
  {
   "cell_type": "code",
   "execution_count": 17,
   "metadata": {},
   "outputs": [
    {
     "data": {
      "text/plain": [
       "torch.Size([32, 1, 28, 28])"
      ]
     },
     "execution_count": 17,
     "metadata": {},
     "output_type": "execute_result"
    }
   ],
   "source": [
    "x = sample_model((32,) + training_data.size()[1:], T, alpha, alpha_bar, sigma, model, training_mean, training_std)\n",
    "\n",
    "x.shape\n"
   ]
  },
  {
   "cell_type": "code",
   "execution_count": 16,
   "metadata": {},
   "outputs": [
    {
     "data": {
      "image/png": "[encoded data removed]",
      "text/plain": [
       "<Figure size 432x288 with 32 Axes>"
      ]
     },
     "metadata": {
      "needs_background": "light"
     },
     "output_type": "display_data"
    }
   ],
   "source": [
    "fig = plt.figure()\n",
    "for i in range(0,32):\n",
    "    ax = plt.subplot(4,8,i+1)\n",
    "    data = mnist_trainset[i]\n",
    "    ax.imshow(x[i].cpu().squeeze())\n",
    "    ax.get_xaxis().set_visible(False)\n",
    "    ax.get_yaxis().set_visible(False)\n",
    "fig.tight_layout()"
   ]
  },
  {
   "cell_type": "markdown",
   "metadata": {},
   "source": [
    "Still not great, but also not bad for a first model. Others have done much better..."
   ]
  },
  {
   "cell_type": "markdown",
   "metadata": {},
   "source": [
    "## References\n",
    "\n",
    "* [_What are Diffusion models?_; Lilian Weng](https://lilianweng.github.io/posts/2021-07-11-diffusion-models/)\n",
    "* [_Denoising Diffusion Probabilistic Models_; Jonathan Ho, Ajay Jain, Pieter Abbeel](https://arxiv.org/abs/2006.11239)\n",
    "* [_High-Resolution Image Synthesis with Latent Diffusion Models_; Robin Rombach, Andreas Blattmann, Dominik Lorenz, Patrick Esser, Björn Ommer](https://arxiv.org/abs/2112.10752)\n",
    "* [https://fleuret.org/francois/materials.html](https://fleuret.org/francois/materials.html)\n",
    "* [karpathy/stablediffusionwalk.py](https://gist.github.com/karpathy/00103b0037c5aaea32fe1da1af553355)\n"
   ]
  }
 ],
 "metadata": {
  "kernelspec": {
   "display_name": "Python 3.10.4 64-bit",
   "language": "python",
   "name": "python3"
  },
  "language_info": {
   "codemirror_mode": {
    "name": "ipython",
    "version": 3
   },
   "file_extension": ".py",
   "mimetype": "text/x-python",
   "name": "python",
   "nbconvert_exporter": "python",
   "pygments_lexer": "ipython3",
   "version": "3.10.4"
  },
  "orig_nbformat": 4,
  "vscode": {
   "interpreter": {
    "hash": "31f2aee4e71d21fbe5cf8b01ff0e069b9275f58929596ceb00d14d90e3e16cd6"
   }
  }
 },
 "nbformat": 4,
 "nbformat_minor": 2
}
