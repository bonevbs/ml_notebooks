{
 "cells": [
  {
   "cell_type": "markdown",
   "metadata": {},
   "source": [
    "# Numerical Optimization\n",
    "\n",
    "## Introduction\n",
    "\n",
    "We consider convex problems with sufficient regularity, such that gradient information may be used. Algorithms that use these properties can be broadly classified as either **Line Search** methods or **Trust Region** methods. The exposition here follors Nocedal and Wright, which is an excellent introduction to the topic. I am not aiming for mathematical rigor, nor for completeness. Rather, I would like to revise some of the key concepts myself and give a nice first introduction, complete with the intuition and some working code.\n"
   ]
  },
  {
   "cell_type": "markdown",
   "metadata": {},
   "source": [
    "### Preparation\n",
    "\n",
    "Before we explore some approaches, we need a differentiable function complete with gradient information. As we want make ourselves familiar with ML-relevant tools out there, we will make use of the library PyTorch and its auto-differentiation capabilities. As usual, numpy and matplotlib will be useful as well:\n",
    "\n",
    "**Disclaimer:** the code in this article could be greatly simplified by just using numpy instead of PyTorch. If you are mainly interested in numerical optimization, I suggest to do this, as this will clarify the core concepts."
   ]
  },
  {
   "cell_type": "code",
   "execution_count": 362,
   "metadata": {},
   "outputs": [],
   "source": [
    "import numpy as np\n",
    "import matplotlib.pyplot as plt\n",
    "\n",
    "import torch\n",
    "import torch.autograd as autograd"
   ]
  },
  {
   "cell_type": "markdown",
   "metadata": {},
   "source": [
    "Let us define a two-dimensional objective function, which we will be minimizing."
   ]
  },
  {
   "cell_type": "code",
   "execution_count": 375,
   "metadata": {},
   "outputs": [],
   "source": [
    "d = 2\n",
    "\n",
    "# random quadratic form\n",
    "class quadratic_form(torch.nn.Module):\n",
    "  def __init__(self, D_in):\n",
    "    super().__init__()\n",
    "    self.c = torch.randn(1)\n",
    "    self.b = torch.randn(D_in, 1)\n",
    "    self.A = np.random.standard_exponential((D_in,D_in))\n",
    "    #self.A = np.tril(self.A) + np.tril(self.A, -1).T\n",
    "    self.A = torch.from_numpy(self.A).float()\n",
    "    self.A = self.A.T @ self.A\n",
    "  def forward(self, x):\n",
    "    # x = torch.from_numpy(x).float()\n",
    "    # x.requires_grad = True\n",
    "    y = torch.sum(x * (self.A@x), 0) - 2.0 * self.b.T @ x + self.c\n",
    "    return y\n",
    "\n",
    "# We also need a pathological case\n",
    "class rosenbrock_form(torch.nn.Module):\n",
    "    def __init__(self):\n",
    "      super().__init__()\n",
    "    def forward(self, x):\n",
    "      y = (1 - x[0])**2 + 100*(x[1]-x[0]**2)**2\n",
    "    \n",
    "objective_function = quadratic_form(d)\n",
    "rosenbrock_function = rosenbrock_form()"
   ]
  },
  {
   "cell_type": "markdown",
   "metadata": {},
   "source": [
    "As we are using PyTorch, we can make use of auto-differentiation to evaluate the gradient information with respect to the input $x$. A nice introduction to autograd in PyTorch can be found [here](https://pytorch.org/tutorials/beginner/blitz/autograd_tutorial.html)."
   ]
  },
  {
   "cell_type": "code",
   "execution_count": 376,
   "metadata": {},
   "outputs": [
    {
     "name": "stdout",
     "output_type": "stream",
     "text": [
      "tensor([[2.0763],\n",
      "        [1.6066]])\n"
     ]
    }
   ],
   "source": [
    "# getting the gradient\n",
    "x0 = torch.rand(2,1, requires_grad=True)\n",
    "f0 = objective_function(x0) # forward pass\n",
    "f0.backward() # after having computed one step, this will compute the gradient\n",
    "print(x0.grad)"
   ]
  },
  {
   "cell_type": "markdown",
   "metadata": {},
   "source": [
    "Bingo! We will also need a function to visualize our minimizer:"
   ]
  },
  {
   "cell_type": "code",
   "execution_count": 377,
   "metadata": {},
   "outputs": [],
   "source": [
    "def plot_minimizier(f, bounds=[-10, 10, -10, 10], trace=np.empty(0)):\n",
    "  x = np.linspace(bounds[0], bounds[1], 40, dtype=np.float32)\n",
    "  y = np.linspace(bounds[2], bounds[3], 40, dtype=np.float32)\n",
    "  X, Y = np.meshgrid(x, y)\n",
    "  grid = np.vstack((X.flatten(),Y.flatten()))\n",
    "  Z = f(torch.from_numpy(grid))\n",
    "  Z = np.reshape(Z.detach().numpy(), (40,40))\n",
    "\n",
    "  plt.gca().set_aspect(\"equal\")\n",
    "  plt.gcf().set_size_inches(7.5, 5.5)\n",
    "  contourplot = plt.contourf(X, Y, Z, levels=np.linspace(-np.amax(Z),np.amax(Z),50))\n",
    "  cbar = plt.colorbar(contourplot)\n",
    "\n",
    "  # plot a sequence of points to visualize the optimizer\n",
    "  trace = np.array(trace)\n",
    "  if trace.size != 0:\n",
    "    plt.plot(trace[:,0], trace[:,1],'w.', linestyle='dashed')\n",
    "    plt.show()"
   ]
  },
  {
   "cell_type": "code",
   "execution_count": 378,
   "metadata": {},
   "outputs": [
    {
     "data": {
      "image/png": "[encoded data removed]",
      "text/plain": [
       "<Figure size 540x396 with 2 Axes>"
      ]
     },
     "metadata": {
      "needs_background": "light"
     },
     "output_type": "display_data"
    }
   ],
   "source": [
    "plot_minimizier(objective_function)"
   ]
  },
  {
   "cell_type": "markdown",
   "metadata": {},
   "source": [
    "### Taylor's theorem\n",
    "\n",
    "To illustrate both approaches, let us start with Taylor's theorem. Suppose that $f: \\mathbb{R}^d \\rightarrow \\mathbb{R}$  is continuously differentiable and that $p \\in \\mathbb{R}^d$. Then, we have that\n",
    "\n",
    "$$f(x+p) = f(x) + \\nabla f(x + tp)^T p,$$\n",
    "\n",
    "for some $t \\in (0,1)$. Furthermore, if $f$ is twice continuously differentiable,\n",
    "\n",
    "$$\\nabla f(x+p) = \\nabla f(x) + \\int_0^1 \\nabla^2 f(x+tp) p\\;\\mathrm{d}t,$$\n",
    "\n",
    "which implies\n",
    "\n",
    "$$f(x+p) = f(x) + \\nabla f(x)^T p + \\frac{1}{2}p^T \\nabla^2 f(x+tp) p,$$\n",
    "\n",
    "for some $t \\in (0,1)$. Here, we have introduced the vector-valued gradient $\\nabla f$ and the $d \\times d$ Hessian matrix $\\nabla^2 f$.\n",
    "\n",
    "The latter implies $f(x+p) < f(x)$ for $p = - \\alpha \\nabla f(x)$, if some sufficiently small $\\alpha$ is chosen. We can therefore update $x$ sequentially, such that $f(x)$ keeps decreasing, thus converging to a minimum."
   ]
  },
  {
   "cell_type": "markdown",
   "metadata": {},
   "source": [
    "## Line Search methods\n",
    "\n",
    "This idea brings us to line-search methods. The core idea of Line Search method is to update the solution $x_k$ iteratively according to\n",
    "\n",
    "$$x_{k+1} = x_k + \\alpha_k p_k,$$\n",
    "\n",
    "where $p_k$ is a descent direction (which is not necessarily the negative gradient) and $\\alpha_k$ a certain step size. Ideally, this will result in a decreasing sequence\n",
    "\n",
    "$$f(x_0) \\geq f(x_1) \\geq \\dots \\geq f(x_{k-1}) \\geq f(x_k)$$\n",
    "\n",
    "which converges to a certain minimum. These approaches are also called line-search methods, as we are looking for the minimum across the line defined by the search direction $p_k$. It is evident that convergence will depend on the specific choice of the descent direction $p_k$ and step size $\\alpha_k$.\n",
    "\n",
    "### Gradient descent\n",
    "\n",
    "The natural choice for $p_k$ is to take the direction of steepest descent $-\\nabla f(x_k)$. Taking the appropriate step size is a more difficult problem to solve. This leaves the choice regarding the step size open. A popular strategy is the so-called backtracking line-search. At each iteration, the following algorithm will give us a step-size $\\alpha$:"
   ]
  },
  {
   "cell_type": "code",
   "execution_count": 379,
   "metadata": {},
   "outputs": [],
   "source": [
    "def backtrack(f, x0, p0, alpha, tau=0.5, c=0.5):\n",
    "  f0 = f(x0)\n",
    "  m = torch.norm(p0) ** 2\n",
    "  t = c * m\n",
    "  while f0 - f(x0 + alpha * p0) <= alpha * t:\n",
    "    alpha = tau*alpha\n",
    "  return alpha\n"
   ]
  },
  {
   "cell_type": "markdown",
   "metadata": {},
   "source": [
    "In other words, we start out with a certain step size $\\alpha$ and decrease it iteratively as long as $f(x_0) - f(x_0 + \\alpha p_0) \\geq \\alpha c ||p_0||^2$ is satisfied. $\\tau \\in (0,1)$ and $c \\in (0,1)$ are some control parameters, which determine the behavior of the method. $\\tau \\in (0,1)$ is some shrinkage parameter, which controls the decay of $\\alpha$, which is replaced by $\\tau \\alpha$ at each iteration. The parameter controls the maximal step size, as $\\alpha$ will satisfy\n",
    "\n",
    "$$f(x_0 + \\alpha p_0) \\leq f(x_0) + \\alpha c ||p_0||^2,$$\n",
    "\n",
    "which is also known as the Armijo–Goldstein condition (insert reference and say something about convergence).\n",
    "\n",
    "Now that we have a method for choosing a step size, we can proceed by iteratively updating"
   ]
  },
  {
   "cell_type": "code",
   "execution_count": 380,
   "metadata": {},
   "outputs": [],
   "source": [
    "def iterate(f, x0, alpha=1.0, tol=1e-6):\n",
    "\n",
    "  # initialize the procedure\n",
    "  x = x0\n",
    "  x.requires_grad = True\n",
    "  f0 = f(x)\n",
    "  f0.backward()\n",
    "  p = - x.grad\n",
    "\n",
    "  # track the progress in trace\n",
    "  trace = [x.detach().numpy()]\n",
    "\n",
    "  # iterate \n",
    "  k = 0\n",
    "  while k < 20 and alpha > tol:\n",
    "    # for the following steps, we do not wish to track gradient information\n",
    "    # to the end, we use torch.no_grad()\n",
    "    with torch.no_grad():\n",
    "      alpha = backtrack(f, x, p, alpha)\n",
    "      x = x + alpha * p\n",
    "    trace.append(x.detach().numpy())\n",
    "    x.requires_grad = True\n",
    "    f.zero_grad()\n",
    "    f0 = f(x)\n",
    "    f0.backward()\n",
    "    p = - x.grad\n",
    "    k += 1\n",
    "  # compute the Wolfe condition\n",
    "  return trace\n",
    "\n",
    "x0 = torch.tensor([[10.],[10.]], requires_grad=True)\n",
    "f0 = objective_function(x0)\n",
    "trace = iterate(objective_function, x0)\n",
    "  "
   ]
  },
  {
   "cell_type": "markdown",
   "metadata": {},
   "source": [
    "We run the iteration 20 times or until the step size becomes too small. This gives us the following output, which is a list containing each of the iterates $x_k$:"
   ]
  },
  {
   "cell_type": "code",
   "execution_count": 381,
   "metadata": {},
   "outputs": [
    {
     "data": {
      "text/plain": [
       "[array([[10.],\n",
       "        [10.]], dtype=float32),\n",
       " array([[7.286171 ],\n",
       "        [2.4017153]], dtype=float32),\n",
       " array([[ 6.0565863 ],\n",
       "        [-0.31190586]], dtype=float32),\n",
       " array([[ 5.371312],\n",
       "        [-1.235259]], dtype=float32),\n",
       " array([[ 4.8858376],\n",
       "        [-1.5025219]], dtype=float32),\n",
       " array([[ 4.4738903],\n",
       "        [-1.5293999]], dtype=float32),\n",
       " array([[ 4.0891876],\n",
       "        [-1.46826  ]], dtype=float32),\n",
       " array([[ 3.7147648],\n",
       "        [-1.374949 ]], dtype=float32),\n",
       " array([[ 3.3444042],\n",
       "        [-1.2699355]], dtype=float32),\n",
       " array([[ 2.975826],\n",
       "        [-1.160722]], dtype=float32),\n",
       " array([[ 2.6081946],\n",
       "        [-1.0500582]], dtype=float32),\n",
       " array([[ 2.241203  ],\n",
       "        [-0.93895185]], dtype=float32),\n",
       " array([[ 1.8747386 ],\n",
       "        [-0.82777214]], dtype=float32),\n",
       " array([[ 1.5087595],\n",
       "        [-0.7166543]], dtype=float32),\n",
       " array([[ 1.1432502 ],\n",
       "        [-0.60564774]], dtype=float32),\n",
       " array([[ 0.7782046 ],\n",
       "        [-0.49477053]], dtype=float32),\n",
       " array([[ 0.41362005],\n",
       "        [-0.38402915]], dtype=float32),\n",
       " array([[ 0.04949522],\n",
       "        [-0.27342585]], dtype=float32),\n",
       " array([[-0.31417078],\n",
       "        [-0.1629614 ]], dtype=float32),\n",
       " array([[-0.67737854],\n",
       "        [-0.0526359 ]], dtype=float32),\n",
       " array([[-1.0401287 ],\n",
       "        [ 0.05755067]], dtype=float32)]"
      ]
     },
     "execution_count": 381,
     "metadata": {},
     "output_type": "execute_result"
    }
   ],
   "source": [
    "trace"
   ]
  },
  {
   "cell_type": "markdown",
   "metadata": {},
   "source": [
    "Let us use the plotting routine from before to visualize the minimization process."
   ]
  },
  {
   "cell_type": "code",
   "execution_count": 382,
   "metadata": {},
   "outputs": [
    {
     "data": {
      "image/png": "[encoded data removed]",
      "text/plain": [
       "<Figure size 540x396 with 2 Axes>"
      ]
     },
     "metadata": {
      "needs_background": "light"
     },
     "output_type": "display_data"
    }
   ],
   "source": [
    "trace = np.array(trace)\n",
    "bounds = [np.amin(trace[:,0]) - 1., np.amax(trace[:,0]) + 1., np.amin(trace[:,1]) - 1., np.amax(trace[:,1]) + 1.]\n",
    "plot_minimizier(objective_function, bounds=bounds, trace=trace)"
   ]
  },
  {
   "cell_type": "markdown",
   "metadata": {},
   "source": [
    "Nice! We can see that the updates are parallel to the gradient and move in the direction of steepest descent as we expected. Moreover, we observe that the step sizes $\\alpha_k$ seem to be chosen reasonably, such that the method converges to the minimum. In fact, the Armillo-Goldstein condition with the chosen parameter is sufficient to guarantee convergence for a strictly convex function (insert ref.)."
   ]
  },
  {
   "cell_type": "markdown",
   "metadata": {},
   "source": [
    "## Analogy to linear systems\n",
    "\n",
    "Coming from numerical linear algebra, I couldn't resist to introduce some linear algebra. A central problem of numerical linear algebra is the solution of linear systems of the form $Ax = b.$"
   ]
  },
  {
   "cell_type": "markdown",
   "metadata": {},
   "source": [
    "## References"
   ]
  },
  {
   "cell_type": "code",
   "execution_count": null,
   "metadata": {},
   "outputs": [],
   "source": []
  }
 ],
 "metadata": {
  "interpreter": {
   "hash": "ac2eaa0ea0ebeafcc7822e65e46aa9d4f966f30b695406963e145ea4a91cd4fc"
  },
  "kernelspec": {
   "display_name": "Python 3.9.6 64-bit",
   "name": "python3"
  },
  "language_info": {
   "codemirror_mode": {
    "name": "ipython",
    "version": 3
   },
   "file_extension": ".py",
   "mimetype": "text/x-python",
   "name": "python",
   "nbconvert_exporter": "python",
   "pygments_lexer": "ipython3",
   "version": "3.9.9"
  },
  "orig_nbformat": 4
 },
 "nbformat": 4,
 "nbformat_minor": 2
}
