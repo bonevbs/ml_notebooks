{
 "cells": [
  {
   "cell_type": "markdown",
   "metadata": {},
   "source": [
    "# Numerical Optimization\n",
    "\n",
    "## Introduction\n",
    "\n",
    "We consider convex problems with sufficient regularity, such that gradient information may be used. Algorithms that use these properties can be broadly classified as either **Line Search** methods or **Trust Region** methods. To illustrate both approaches, let us start with Taylor's theorem.\n",
    "\n",
    "### Taylor's theorem\n",
    "\n",
    "Suppose that $f: \\mathbb{R}^d \\rightarrow \\mathbb{R}$  is continuously differentiable and that $p \\in \\mathbb{R}^d$. Then, we have that\n",
    "$$f(x+p) = f(x) + \\nabla f(x + tp)^T p,$$\n",
    "for some $t \\in (0,1)$. Furthermore, if $f$ is twice continuously differentiable,\n",
    "$$\\nabla f(x+p) = \\nabla f(x) + \\int_0^1 \\nabla^2 f(x+tp) p\\;\\mathrm{d}t,$$\n",
    "which implies\n",
    "$$f(x+p) = f(x) + \\nabla f(x)^T p + \\frac{1}{2}p^T \\nabla^2 f(x+tp) p,$$\n",
    "for some $t \\in (0,1)$.\n",
    "\n",
    "Here, we have introduced the vector-valued gradient $\\nabla f$ and the $d \\times d$ Hessian matrix $\\nabla^2 f$.\n"
   ]
  },
  {
   "cell_type": "markdown",
   "metadata": {},
   "source": [
    "## Preparation\n",
    "\n",
    "Before we explore some approaches, we need a differentiable function complete with gradient information. As we want make ourselves familiar with ML-relevant tools out there, we will make use of the library `PyTorch` and its auto-differentiation capabilities. As usual, `numpy` and `matplotlib` will be useful as well:"
   ]
  },
  {
   "cell_type": "code",
   "execution_count": 2,
   "metadata": {},
   "outputs": [],
   "source": [
    "import numpy as np\n",
    "import matplotlib.pyplot as plt\n",
    "\n",
    "import torch\n",
    "import torch.autograd as autograd"
   ]
  },
  {
   "cell_type": "markdown",
   "metadata": {},
   "source": [
    "Let us define a two-dimensional objective function, which we will be minimizing."
   ]
  },
  {
   "cell_type": "code",
   "execution_count": 11,
   "metadata": {},
   "outputs": [],
   "source": [
    "d = 2\n",
    "\n",
    "class fun(torch.nn.Module):\n",
    "  def __init__(self, D_in):\n",
    "    super().__init__()\n",
    "    self.c = torch.randn(1)\n",
    "    self.b = torch.randn(D_in, 1)\n",
    "    self.A = np.random.standard_exponential((D_in,D_in))\n",
    "    #self.A = np.tril(self.A) + np.tril(self.A, -1).T\n",
    "    self.A = torch.from_numpy(self.A).float()\n",
    "    self.A = self.A.T @ self.A\n",
    "  def forward(self, x):\n",
    "    x = torch.from_numpy(x).float()\n",
    "    x.requires_grad = True\n",
    "    y = torch.sum(x * (self.A@x), 0) - 2.0 * self.b.T @ x + self.c\n",
    "    return y\n",
    "    \n",
    "objective_function = fun(d)"
   ]
  },
  {
   "cell_type": "markdown",
   "metadata": {},
   "source": [
    "We will be needing gradient information and potentially the Hessian as well. This is where auto-differentiation comes in. After a forward pass to compute $f(x_0)$, we can also evaluate $\\nabla f(x_0)$ as well:"
   ]
  },
  {
   "cell_type": "code",
   "execution_count": 12,
   "metadata": {},
   "outputs": [
    {
     "data": {
      "text/plain": [
       "array([[0.324653  ],\n",
       "       [0.90904074]])"
      ]
     },
     "execution_count": 12,
     "metadata": {},
     "output_type": "execute_result"
    }
   ],
   "source": [
    "# getting the gradient\n",
    "x0 = np.random.rand(2,1)\n",
    "f0 = objective_function(x0) # forward pass\n",
    "grad = f0.backward() # after having computed one step, this will compute the gradient\n",
    "x0"
   ]
  },
  {
   "cell_type": "code",
   "execution_count": 14,
   "metadata": {},
   "outputs": [
    {
     "data": {
      "image/png": "[encoded data removed]",
      "text/plain": [
       "<Figure size 540x396 with 2 Axes>"
      ]
     },
     "metadata": {
      "needs_background": "light"
     },
     "output_type": "display_data"
    }
   ],
   "source": [
    "x = np.linspace(-10, 10, 40)\n",
    "y = np.linspace(-10, 10, 40)\n",
    "X, Y = np.meshgrid(x, y)\n",
    "grid = np.vstack((X.flatten(),Y.flatten()))\n",
    "Z = objective_function(grid)\n",
    "Z = np.reshape(Z.detach().numpy(), (40,40))\n",
    "\n",
    "plt.gca().set_aspect(\"equal\")\n",
    "plt.gcf().set_size_inches(7.5, 5.5)\n",
    "contourplot = plt.contourf(X, Y, Z, levels=np.linspace(-np.amax(Z),np.amax(Z),50))\n",
    "cbar = plt.colorbar(contourplot)\n",
    "plt.show()"
   ]
  },
  {
   "cell_type": "markdown",
   "metadata": {},
   "source": [
    "## Steepest Descent Optimizer\n",
    "\n",
    "The core idea of Line Search method is to update the solution $x_k$ iteratively according to\n",
    "\n",
    "$x_{k+1} = x_k + \\alpha_k p_k,$\n",
    "\n",
    "where $p_k$ is a descent direction and $\\alpha_k$ a certain step size. Ideally, this will result in a decreasing sequence\n",
    "\n",
    "$f(x_0) > f(x_1) > \\dots > f(x_{k-1}) > f(x_k)$\n",
    "\n",
    "which converges to a certain minimum. These approaches are also called line-search methods, as we are looking for the minimum across the line defined by the search direction $p_k$. It is evident that convergence will depend on the specific choice of the descent direction $p_k$ and step size $\\alpha_k$.\n",
    "\n",
    "The natural choice for $p_k$ is to take the direction of steepest descent $-\\nabla f(x_k)$. Taking the appropriate step size is a more difficult problem to solve."
   ]
  },
  {
   "cell_type": "code",
   "execution_count": 8,
   "metadata": {},
   "outputs": [
    {
     "ename": "SyntaxError",
     "evalue": "invalid syntax (4095096631.py, line 4)",
     "output_type": "error",
     "traceback": [
      "\u001b[0;36m  File \u001b[0;32m\"/var/folders/rg/r0r6l9615rdg0761s0zrlfz00000gn/T/ipykernel_37488/4095096631.py\"\u001b[0;36m, line \u001b[0;32m4\u001b[0m\n\u001b[0;31m    while\u001b[0m\n\u001b[0m          ^\u001b[0m\n\u001b[0;31mSyntaxError\u001b[0m\u001b[0;31m:\u001b[0m invalid syntax\n"
     ]
    }
   ],
   "source": [
    "def backtrack(f0, alpha0, x, p):\n",
    "  t = -0.5*np.norm(f0)\n",
    "  j = 0\n",
    "  while \n",
    "    f1 = "
   ]
  },
  {
   "cell_type": "code",
   "execution_count": null,
   "metadata": {},
   "outputs": [],
   "source": [
    "def iterate(f, x0, alpha):\n",
    "  f0 = f(x0)\n",
    "  p0 = f0.backward()\n",
    "  # compute the Wolfe condition\n",
    "  return x0 - alpha*p0\n",
    "  "
   ]
  },
  {
   "cell_type": "markdown",
   "metadata": {},
   "source": [
    "## Analogy to linear systems\n",
    "\n",
    "Coming from numerical linear algebra, I couldn't resist to introduce some linear algebra. A central problem of numerical linear algebra is the solution of linear systems of the form\n",
    "\n",
    "$Ax = b.$"
   ]
  }
 ],
 "metadata": {
  "interpreter": {
   "hash": "ac2eaa0ea0ebeafcc7822e65e46aa9d4f966f30b695406963e145ea4a91cd4fc"
  },
  "kernelspec": {
   "display_name": "Python 3.9.6 64-bit",
   "name": "python3"
  },
  "language_info": {
   "codemirror_mode": {
    "name": "ipython",
    "version": 3
   },
   "file_extension": ".py",
   "mimetype": "text/x-python",
   "name": "python",
   "nbconvert_exporter": "python",
   "pygments_lexer": "ipython3",
   "version": "3.9.9"
  },
  "orig_nbformat": 4
 },
 "nbformat": 4,
 "nbformat_minor": 2
}
