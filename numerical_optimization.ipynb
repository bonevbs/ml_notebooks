{
 "cells": [
  {
   "cell_type": "markdown",
   "metadata": {},
   "source": [
    "# Numerical Optimization\n",
    "\n",
    "## Introduction\n",
    "\n",
    "We consider convex problems with sufficient regularity, such that gradient information may be used. Algorithms that use these properties can be broadly classified as either **Line Search** methods or **Trust Region** methods. The exposition here follors Nocedal and Wright, which is an excellent introduction to the topic. I am not aiming for mathematical rigor, nor for completeness. Rather, I would like to revise some of the key concepts myself and give a nice first introduction, complete with the intuition and some working code.\n"
   ]
  },
  {
   "cell_type": "markdown",
   "metadata": {},
   "source": [
    "### Preparation\n",
    "\n",
    "Before we explore some approaches, we need a differentiable function complete with gradient information. As we want make ourselves familiar with ML-relevant tools out there, we will make use of the library PyTorch and its auto-differentiation capabilities. As usual, numpy and matplotlib will be useful as well:\n",
    "\n",
    "**Disclaimer:** the code in this article could be greatly simplified by just using numpy instead of PyTorch. If you are mainly interested in numerical optimization, I suggest to do this, as this will clarify the core concepts."
   ]
  },
  {
   "cell_type": "code",
   "execution_count": 414,
   "metadata": {},
   "outputs": [],
   "source": [
    "import numpy as np\n",
    "import matplotlib.pyplot as plt\n",
    "\n",
    "import torch\n",
    "import torch.autograd as autograd"
   ]
  },
  {
   "cell_type": "markdown",
   "metadata": {},
   "source": [
    "Let us define a two-dimensional objective function, which we will be minimizing."
   ]
  },
  {
   "cell_type": "code",
   "execution_count": 476,
   "metadata": {},
   "outputs": [],
   "source": [
    "d = 2\n",
    "\n",
    "# random quadratic form\n",
    "class quadratic_form(torch.nn.Module):\n",
    "  def __init__(self, D_in):\n",
    "    super().__init__()\n",
    "    self.c = torch.randn(1)\n",
    "    self.b = torch.randn(D_in, 1) # we do not use these, however I kept them for completeness, if we want a general quadratic form.\n",
    "    self.A = np.random.standard_exponential((D_in,D_in))\n",
    "    self.A = torch.from_numpy(self.A).float()\n",
    "    self.A = self.A.T @ self.A # to ensure that A is a symmetric matrix\n",
    "  def forward(self, x):\n",
    "    y = torch.sum(x * (self.A@x), 0) # - 2.0 * self.b.T @ x + self.c\n",
    "    return y"
   ]
  },
  {
   "cell_type": "markdown",
   "metadata": {},
   "source": [
    "As we are using PyTorch, we can make use of auto-differentiation to evaluate the gradient information with respect to the input $x$. A nice introduction to autograd in PyTorch can be found [here](https://pytorch.org/tutorials/beginner/blitz/autograd_tutorial.html)."
   ]
  },
  {
   "cell_type": "code",
   "execution_count": 477,
   "metadata": {},
   "outputs": [
    {
     "name": "stdout",
     "output_type": "stream",
     "text": [
      "tensor([[1.0852],\n",
      "        [1.1448]])\n"
     ]
    }
   ],
   "source": [
    "objective_function = quadratic_form(d)\n",
    "\n",
    "# getting the gradient\n",
    "x0 = torch.rand(2,1, requires_grad=True)\n",
    "f0 = objective_function(x0) # forward pass\n",
    "f0.backward() # after having computed one step, this will compute the gradient\n",
    "print(x0.grad)"
   ]
  },
  {
   "cell_type": "markdown",
   "metadata": {},
   "source": [
    "Bingo! We will also need a function to visualize our minimizer:"
   ]
  },
  {
   "cell_type": "code",
   "execution_count": 494,
   "metadata": {},
   "outputs": [],
   "source": [
    "def plot_minimizier(f, bounds=[-10, 10, -10, 10], trace=np.empty(0)):\n",
    "  x = np.linspace(bounds[0], bounds[1], 40, dtype=np.float32)\n",
    "  y = np.linspace(bounds[2], bounds[3], 40, dtype=np.float32)\n",
    "  X, Y = np.meshgrid(x, y)\n",
    "  grid = np.vstack((X.flatten(),Y.flatten()))\n",
    "  Z = f(torch.from_numpy(grid))\n",
    "  Z = np.reshape(Z.detach().numpy(), (40,40))\n",
    "\n",
    "  plt.gca().set_aspect(\"equal\")\n",
    "  plt.gcf().set_size_inches(7.5, 5.5)\n",
    "  contourplot = plt.contourf(X, Y, Z, levels=np.linspace(np.amin(Z),np.amax(Z),50))\n",
    "  cbar = plt.colorbar(contourplot)\n",
    "\n",
    "  # plot a sequence of points to visualize the optimization process\n",
    "  trace = np.array(trace)\n",
    "  if trace.size != 0:\n",
    "    plt.plot(trace[:,0], trace[:,1],'w.', linestyle='dashed')\n",
    "    plt.show()"
   ]
  },
  {
   "cell_type": "code",
   "execution_count": 479,
   "metadata": {},
   "outputs": [
    {
     "data": {
      "image/png": "[encoded data removed]",
      "text/plain": [
       "<Figure size 540x396 with 2 Axes>"
      ]
     },
     "metadata": {
      "needs_background": "light"
     },
     "output_type": "display_data"
    }
   ],
   "source": [
    "plot_minimizier(objective_function)"
   ]
  },
  {
   "cell_type": "markdown",
   "metadata": {},
   "source": [
    "We observe that the `objective_function` is a quadratic form with its minimum located at $(0, 0)^T$."
   ]
  },
  {
   "cell_type": "markdown",
   "metadata": {},
   "source": [
    "### Taylor's theorem\n",
    "\n",
    "To illustrate both approaches, let us start with Taylor's theorem. Suppose that $f: \\mathbb{R}^d \\rightarrow \\mathbb{R}$  is continuously differentiable and that $p \\in \\mathbb{R}^d$. Then, we have that\n",
    "\n",
    "$$f(x+p) = f(x) + \\nabla f(x + tp)^T p,$$\n",
    "\n",
    "for some $t \\in (0,1)$. Furthermore, if $f$ is twice continuously differentiable,\n",
    "\n",
    "$$\\nabla f(x+p) = \\nabla f(x) + \\int_0^1 \\nabla^2 f(x+tp) p\\;\\mathrm{d}t,$$\n",
    "\n",
    "which implies\n",
    "\n",
    "$$f(x+p) = f(x) + \\nabla f(x)^T p + \\frac{1}{2}p^T \\nabla^2 f(x+tp) p,$$\n",
    "\n",
    "for some $t \\in (0,1)$. Here, we have introduced the vector-valued gradient $\\nabla f$ and the $d \\times d$ Hessian matrix $\\nabla^2 f$.\n",
    "\n",
    "The latter implies $f(x+p) < f(x)$ for $p = - \\alpha \\nabla f(x)$, if some sufficiently small $\\alpha$ is chosen. We can therefore update $x$ sequentially, such that $f(x)$ keeps decreasing, thus converging to a minimum."
   ]
  },
  {
   "cell_type": "markdown",
   "metadata": {},
   "source": [
    "## Line Search methods\n",
    "\n",
    "This idea brings us to line-search methods. The core idea of Line Search method is to update the solution $x_k$ iteratively according to\n",
    "\n",
    "$$x_{k+1} = x_k + \\alpha_k p_k,$$\n",
    "\n",
    "where $p_k$ is a descent direction (which is not necessarily the negative gradient) and $\\alpha_k$ a certain step size. Ideally, this will result in a decreasing sequence\n",
    "\n",
    "$$f(x_0) \\geq f(x_1) \\geq \\dots \\geq f(x_{k-1}) \\geq f(x_k)$$\n",
    "\n",
    "which converges to a certain minimum. These approaches are also called line-search methods, as we are looking for the minimum across the line defined by the search direction $p_k$. It is evident that convergence will depend on the specific choice of the descent direction $p_k$ and step size $\\alpha_k$.\n",
    "\n",
    "### Gradient descent\n",
    "\n",
    "The natural choice for $p_k$ is to take the direction of steepest descent $-\\nabla f(x_k)$. Taking the appropriate step size is a more difficult problem to solve. This leaves the choice regarding the step size open. A popular strategy is the so-called backtracking line-search. At each iteration, the following algorithm will give us a step-size $\\alpha$:"
   ]
  },
  {
   "cell_type": "code",
   "execution_count": 480,
   "metadata": {},
   "outputs": [],
   "source": [
    "def backtrack(f, x0, p0, alpha, tau=0.5, c=0.5):\n",
    "  f0 = f(x0)\n",
    "  m = torch.norm(p0) ** 2\n",
    "  t = c * m\n",
    "  while f0 - f(x0 + alpha * p0) <= alpha * t:\n",
    "    alpha = tau*alpha\n",
    "  return alpha\n"
   ]
  },
  {
   "cell_type": "markdown",
   "metadata": {},
   "source": [
    "In other words, we start out with a certain step size $\\alpha$ and decrease it iteratively as long as $f(x_0) - f(x_0 + \\alpha p_0) \\geq \\alpha c ||p_0||^2$ is satisfied. $\\tau \\in (0,1)$ and $c \\in (0,1)$ are some control parameters, which determine the behavior of the method. $\\tau \\in (0,1)$ is some shrinkage parameter, which controls the decay of $\\alpha$, which is replaced by $\\tau \\alpha$ at each iteration. The parameter controls the maximal step size, as $\\alpha$ will satisfy\n",
    "\n",
    "$$f(x_0 + \\alpha p_0) \\leq f(x_0) + \\alpha c ||p_0||^2,$$\n",
    "\n",
    "which is also known as the Armijo–Goldstein condition (insert reference and say something about convergence).\n",
    "\n",
    "Now that we have a method for choosing a step size, we can proceed by iteratively updating"
   ]
  },
  {
   "cell_type": "code",
   "execution_count": 481,
   "metadata": {},
   "outputs": [],
   "source": [
    "def gradient_descent(f, x0, alpham=1.0, tol=1e-6):\n",
    "\n",
    "  # initialize the procedure\n",
    "  x = x0\n",
    "  x.requires_grad = True\n",
    "  f0 = f(x)\n",
    "  f0.backward()\n",
    "  p = - x.grad\n",
    "  alpha = alpham\n",
    "\n",
    "  # track the progress in trace\n",
    "  trace = [x.detach().numpy()]\n",
    "\n",
    "  # iterate \n",
    "  k = 0\n",
    "  while k < 100 and alpha > tol:\n",
    "    # for the following steps, we do not wish to track gradient information\n",
    "    # to the end, we use torch.no_grad()\n",
    "    with torch.no_grad():\n",
    "      alpha = backtrack(f, x, p, alpham)\n",
    "      x = x + alpha * p\n",
    "    trace.append(x.detach().numpy())\n",
    "    x.requires_grad = True\n",
    "    f.zero_grad()\n",
    "    f0 = f(x)\n",
    "    f0.backward()\n",
    "    p = - x.grad\n",
    "    k += 1\n",
    "  # compute the Wolfe condition\n",
    "  return trace\n",
    "\n",
    "x0 = torch.tensor([[10.],[10.]], requires_grad=True)\n",
    "trace = gradient_descent(objective_function, x0)\n",
    "  "
   ]
  },
  {
   "cell_type": "markdown",
   "metadata": {},
   "source": [
    "We run the iteration 100 times or until the step size becomes too small. This gives us the following output, which is a list containing each of the iterates $x_k$:"
   ]
  },
  {
   "cell_type": "code",
   "execution_count": 482,
   "metadata": {},
   "outputs": [
    {
     "data": {
      "text/plain": [
       "[array([[10.],\n",
       "        [10.]], dtype=float32),\n",
       " array([[3.7949867],\n",
       "        [3.311122 ]], dtype=float32),\n",
       " array([[1.5691917],\n",
       "        [0.9673536]], dtype=float32),\n",
       " array([[0.75595737],\n",
       "        [0.15985131]], dtype=float32),\n",
       " array([[ 0.44580787],\n",
       "        [-0.10599434]], dtype=float32),\n",
       " array([[ 0.3162951],\n",
       "        [-0.1822076]], dtype=float32),\n",
       " array([[ 0.18957567],\n",
       "        [-0.20425835]], dtype=float32),\n",
       " array([[ 0.16430563],\n",
       "        [-0.14100039]], dtype=float32),\n",
       " array([[ 0.1231923 ],\n",
       "        [-0.11516391]], dtype=float32),\n",
       " array([[ 0.09740282],\n",
       "        [-0.08819293]], dtype=float32),\n",
       " array([[ 0.07548606],\n",
       "        [-0.06917098]], dtype=float32),\n",
       " array([[ 0.05893937],\n",
       "        [-0.05376745]], dtype=float32),\n",
       " array([[ 0.04589118],\n",
       "        [-0.0419344 ]], dtype=float32),\n",
       " array([[ 0.03576905],\n",
       "        [-0.03266454]], dtype=float32),\n",
       " array([[ 0.02786863],\n",
       "        [-0.02545578]], dtype=float32),\n",
       " array([[ 0.02171637],\n",
       "        [-0.01983445]], dtype=float32),\n",
       " array([[ 0.01692136],\n",
       "        [-0.01545547]], dtype=float32),\n",
       " array([[ 0.01318537],\n",
       "        [-0.01204298]], dtype=float32),\n",
       " array([[ 0.01027415],\n",
       "        [-0.00938403]], dtype=float32),\n",
       " array([[ 0.00800572],\n",
       "        [-0.00731212]], dtype=float32),\n",
       " array([[ 0.00623814],\n",
       "        [-0.00569768]], dtype=float32),\n",
       " array([[ 0.00486082],\n",
       "        [-0.00443969]], dtype=float32),\n",
       " array([[ 0.0037876 ],\n",
       "        [-0.00345945]], dtype=float32),\n",
       " array([[ 0.00295133],\n",
       "        [-0.00269564]], dtype=float32),\n",
       " array([[ 0.00229971],\n",
       "        [-0.00210047]], dtype=float32),\n",
       " array([[ 0.00179195],\n",
       "        [-0.0016367 ]], dtype=float32),\n",
       " array([[ 0.00139631],\n",
       "        [-0.00127534]], dtype=float32),\n",
       " array([[ 0.00108802],\n",
       "        [-0.00099375]], dtype=float32),\n",
       " array([[ 0.00084779],\n",
       "        [-0.00077434]], dtype=float32),\n",
       " array([[ 0.00066061],\n",
       "        [-0.00060338]], dtype=float32),\n",
       " array([[ 0.00051475],\n",
       "        [-0.00047016]], dtype=float32),\n",
       " array([[ 0.0004011 ],\n",
       "        [-0.00036635]], dtype=float32),\n",
       " array([[ 0.00031254],\n",
       "        [-0.00028546]], dtype=float32),\n",
       " array([[ 0.00024354],\n",
       "        [-0.00022244]], dtype=float32),\n",
       " array([[ 0.00018977],\n",
       "        [-0.00017332]], dtype=float32),\n",
       " array([[ 0.00014787],\n",
       "        [-0.00013506]], dtype=float32),\n",
       " array([[ 0.00011522],\n",
       "        [-0.00010524]], dtype=float32),\n",
       " array([[ 8.9780158e-05],\n",
       "        [-8.2001825e-05]], dtype=float32),\n",
       " array([[ 6.995758e-05],\n",
       "        [-6.389663e-05]], dtype=float32),\n",
       " array([[ 5.451164e-05],\n",
       "        [-4.978888e-05]], dtype=float32),\n",
       " array([[ 4.2476004e-05],\n",
       "        [-3.8795988e-05]], dtype=float32),\n",
       " array([[ 3.3097720e-05],\n",
       "        [-3.0230214e-05]], dtype=float32),\n",
       " array([[ 2.5790068e-05],\n",
       "        [-2.3555680e-05]], dtype=float32),\n",
       " array([[ 2.0095877e-05],\n",
       "        [-1.8354818e-05]], dtype=float32),\n",
       " array([[ 1.5658905e-05],\n",
       "        [-1.4302255e-05]], dtype=float32),\n",
       " array([[ 1.2201574e-05],\n",
       "        [-1.1144459e-05]], dtype=float32),\n",
       " array([[ 9.507587e-06],\n",
       "        [-8.683872e-06]], dtype=float32),\n",
       " array([[ 7.4084046e-06],\n",
       "        [-6.7665587e-06]], dtype=float32),\n",
       " array([[ 5.772702e-06],\n",
       "        [-5.272569e-06]], dtype=float32),\n",
       " array([[ 4.4981462e-06],\n",
       "        [-4.1084377e-06]], dtype=float32),\n",
       " array([[ 3.5049998e-06],\n",
       "        [-3.2013352e-06]], dtype=float32),\n",
       " array([[ 2.7311303e-06],\n",
       "        [-2.4945118e-06]], dtype=float32),\n",
       " array([[ 2.1281237e-06],\n",
       "        [-1.9437480e-06]], dtype=float32),\n",
       " array([[ 1.6582549e-06],\n",
       "        [-1.5145878e-06]], dtype=float32),\n",
       " array([[ 1.2921287e-06],\n",
       "        [-1.1801817e-06]], dtype=float32),\n",
       " array([[ 1.0068393e-06],\n",
       "        [-9.1960925e-07]], dtype=float32),\n",
       " array([[ 7.8453911e-07],\n",
       "        [-7.1656854e-07]], dtype=float32),\n",
       " array([[ 6.1132062e-07],\n",
       "        [-5.5835727e-07]], dtype=float32),\n",
       " array([[ 4.7634705e-07],\n",
       "        [-4.3507748e-07]], dtype=float32),\n",
       " array([[ 3.7117428e-07],\n",
       "        [-3.3901665e-07]], dtype=float32),\n",
       " array([[ 2.8922267e-07],\n",
       "        [-2.6416512e-07]], dtype=float32),\n",
       " array([[ 2.2536516e-07],\n",
       "        [-2.0584007e-07]], dtype=float32),\n",
       " array([[ 1.7560676e-07],\n",
       "        [-1.6039262e-07]], dtype=float32),\n",
       " array([[ 1.3683452e-07],\n",
       "        [-1.2497951e-07]], dtype=float32),\n",
       " array([[ 1.0662281e-07],\n",
       "        [-9.7385268e-08]], dtype=float32),\n",
       " array([[ 8.308154e-08],\n",
       "        [-7.588356e-08]], dtype=float32),\n",
       " array([[ 6.4737961e-08],\n",
       "        [-5.9129214e-08]], dtype=float32),\n",
       " array([[ 5.0444456e-08],\n",
       "        [-4.6074067e-08]], dtype=float32),\n",
       " array([[ 3.930682e-08],\n",
       "        [-3.590137e-08]], dtype=float32),\n",
       " array([[ 3.0628261e-08],\n",
       "        [-2.7974702e-08]], dtype=float32),\n",
       " array([[ 2.3865843e-08],\n",
       "        [-2.1798165e-08]], dtype=float32),\n",
       " array([[ 1.8596499e-08],\n",
       "        [-1.6985343e-08]], dtype=float32),\n",
       " array([[ 1.4490575e-08],\n",
       "        [-1.3235146e-08]], dtype=float32),\n",
       " array([[ 1.1291198e-08],\n",
       "        [-1.0312957e-08]], dtype=float32),\n",
       " array([[ 8.798213e-09],\n",
       "        [-8.035957e-09]], dtype=float32),\n",
       " array([[ 6.8556543e-09],\n",
       "        [-6.2616969e-09]], dtype=float32),\n",
       " array([[ 5.3419935e-09],\n",
       "        [-4.8791762e-09]], dtype=float32),\n",
       " array([[ 4.162534e-09],\n",
       "        [-3.801902e-09]], dtype=float32),\n",
       " array([[ 3.2434873e-09],\n",
       "        [-2.9624794e-09]], dtype=float32),\n",
       " array([[ 2.5273574e-09],\n",
       "        [-2.3083930e-09]], dtype=float32),\n",
       " array([[ 1.9693416e-09],\n",
       "        [-1.7987227e-09]], dtype=float32),\n",
       " array([[ 1.5345304e-09],\n",
       "        [-1.4015824e-09]], dtype=float32),\n",
       " array([[ 1.1957213e-09],\n",
       "        [-1.0921268e-09]], dtype=float32),\n",
       " array([[ 9.3171781e-10],\n",
       "        [-8.5099605e-10]], dtype=float32),\n",
       " array([[ 7.2600370e-10],\n",
       "        [-6.6310446e-10]], dtype=float32),\n",
       " array([[ 5.657092e-10],\n",
       "        [-5.166976e-10]], dtype=float32),\n",
       " array([[ 4.4080622e-10],\n",
       "        [-4.0261580e-10]], dtype=float32),\n",
       " array([[ 3.4348052e-10],\n",
       "        [-3.1372224e-10]], dtype=float32),\n",
       " array([[ 2.6764341e-10],\n",
       "        [-2.4445543e-10]], dtype=float32),\n",
       " array([[ 2.0855037e-10],\n",
       "        [-1.9048207e-10]], dtype=float32),\n",
       " array([[ 1.6250451e-10],\n",
       "        [-1.4842551e-10]], dtype=float32),\n",
       " array([[ 1.2662511e-10],\n",
       "        [-1.1565462e-10]], dtype=float32),\n",
       " array([[ 9.866753e-11],\n",
       "        [-9.011922e-11]], dtype=float32),\n",
       " array([[ 7.6882715e-11],\n",
       "        [-7.0221780e-11]], dtype=float32),\n",
       " array([[ 5.9907766e-11],\n",
       "        [-5.4717505e-11]], dtype=float32),\n",
       " array([[ 4.6680722e-11],\n",
       "        [-4.2636419e-11]], dtype=float32),\n",
       " array([[ 3.6374077e-11],\n",
       "        [-3.3222716e-11]], dtype=float32),\n",
       " array([[ 2.8343040e-11],\n",
       "        [-2.5887468e-11]], dtype=float32),\n",
       " array([[ 2.2085174e-11],\n",
       "        [-2.0171771e-11]], dtype=float32),\n",
       " array([[ 1.7208986e-11],\n",
       "        [-1.5718041e-11]], dtype=float32),\n",
       " array([[ 1.34094116e-11],\n",
       "        [-1.22476525e-11]], dtype=float32)]"
      ]
     },
     "execution_count": 482,
     "metadata": {},
     "output_type": "execute_result"
    }
   ],
   "source": [
    "trace"
   ]
  },
  {
   "cell_type": "markdown",
   "metadata": {},
   "source": [
    "Let us use the plotting routine from before to visualize the minimization process."
   ]
  },
  {
   "cell_type": "code",
   "execution_count": 483,
   "metadata": {},
   "outputs": [
    {
     "data": {
      "image/png": "[encoded data removed]",
      "text/plain": [
       "<Figure size 540x396 with 2 Axes>"
      ]
     },
     "metadata": {
      "needs_background": "light"
     },
     "output_type": "display_data"
    }
   ],
   "source": [
    "trace = np.array(trace)\n",
    "bounds = [np.amin(trace[:,0]) - 1., np.amax(trace[:,0]) + 1., np.amin(trace[:,1]) - 1., np.amax(trace[:,1]) + 1.]\n",
    "plot_minimizier(objective_function, bounds=bounds, trace=trace)"
   ]
  },
  {
   "cell_type": "markdown",
   "metadata": {},
   "source": [
    "Very good! We can see that the updates are parallel to the gradient and move in the direction of steepest descent as we expected. Moreover, we observe that the step sizes $\\alpha_k$ seem to be chosen reasonably, such that the method converges to the minimum. In fact, the Armillo-Goldstein condition with the chosen parameter is sufficient to guarantee convergence for a strictly convex function (insert ref.).\n",
    "\n",
    "Let us now try another example, the Rosenbrock function $f(x_1, x_2) = (1-x_1)^2 + 100 (x_2 - x_1^2)^2$, which is a pathological example, with a narrow, curved valley. This proves to be difficult for gradient descent methods. Let us define the function and apply gradient descent:"
   ]
  },
  {
   "cell_type": "code",
   "execution_count": 484,
   "metadata": {},
   "outputs": [],
   "source": [
    "# We also need a pathological case\n",
    "class rosenbrock_function(torch.nn.Module):\n",
    "    def __init__(self):\n",
    "      super().__init__()\n",
    "    def forward(self, x):\n",
    "      y = (1.0 - x[0])**2 + 100*(x[1]-x[0]**2)**2\n",
    "      return y\n",
    "\n",
    "objective_function = rosenbrock_function()\n",
    "\n",
    "x0 = torch.tensor([[-1.],[1.]], requires_grad=True)\n",
    "f0 = objective_function(x0)\n",
    "trace = gradient_descent(objective_function, x0)"
   ]
  },
  {
   "cell_type": "markdown",
   "metadata": {},
   "source": [
    "...and we visualize the result:"
   ]
  },
  {
   "cell_type": "code",
   "execution_count": 485,
   "metadata": {},
   "outputs": [
    {
     "data": {
      "image/png": "[encoded data removed]",
      "text/plain": [
       "<Figure size 540x396 with 2 Axes>"
      ]
     },
     "metadata": {
      "needs_background": "light"
     },
     "output_type": "display_data"
    }
   ],
   "source": [
    "trace = np.array(trace)\n",
    "bounds = [np.amin(trace[:,0]) - 1., np.amax(trace[:,0]) + 1., np.amin(trace[:,1]) - 1., np.amax(trace[:,1]) + 1.]\n",
    "plot_minimizier(objective_function, bounds=bounds, trace=trace)"
   ]
  },
  {
   "cell_type": "markdown",
   "metadata": {},
   "source": [
    "We observe that many iterations are spent zig-zagging in the curved part of the solution. This is understandable, considering that the gradient-descent method is moving in the \"wrong\" direction and therefore has to adjust the descent direction frequently."
   ]
  },
  {
   "cell_type": "markdown",
   "metadata": {},
   "source": [
    "## Trust region methods\n",
    "\n",
    "The previous problem nicely illustrated the need for a smarter choice of the descent direction $p_k$. An alternative approach can be derived upon closer inspection of Taylor's theorem. If $f$ has sufficient regularity, the function $f$ can be approximated locally around $x$ with the quadratic form\n",
    "\n",
    "$$f(x+p) = f(x) + \\nabla f(x)^T p + \\frac{1}{2} p^T \\, \\nabla^2 f(x) \\, p + \\mathcal{O}(||p||^3).$$\n",
    "\n",
    "By differentiating this with respect to $p$ and setting the result to zero, we find $p^*$, which minimizes this quadratic form. $p^*$ satisfies\n",
    "\n",
    "$$\\nabla^2 f(x) \\, p^* = - \\nabla f(x),$$\n",
    "\n",
    "which can be solved to obtain $p^* = - (\\nabla^2 f(x))^{-1} \\nabla f(x)$.\n",
    "\n",
    "### Newton method\n",
    "\n",
    "This gives rise to the Newton method. At each iteration, we compute the local quadratic approximation to $f$ and set $x_{k+1} = x_{k} + p_k^*$ to be the minimizer of this local approximation. Coincidentally, this is equivalent tothe application of *Newton's method for root-finding* to the Gradient $\\nabla f(x)$, as we are essentially looking for a root of $\\nabla f(x)$.\n"
   ]
  },
  {
   "cell_type": "code",
   "execution_count": 491,
   "metadata": {},
   "outputs": [],
   "source": [
    "def newton_method(f, x0):\n",
    "\n",
    "  # initialize the procedure\n",
    "  x = x0\n",
    "  x.requires_grad = True\n",
    "\n",
    "  # track the progress in trace\n",
    "  trace = [x.detach().numpy()]\n",
    "\n",
    "  # iterate \n",
    "  k = 0\n",
    "  while k < 20:\n",
    "    # compute the gradient and Hessian\n",
    "    H = torch.autograd.functional.hessian(f, x, create_graph=False).squeeze()\n",
    "    f0 = f(x)\n",
    "    f0.backward()\n",
    "    # solve the linear system and compute the update\n",
    "    with torch.no_grad():\n",
    "      p = - torch.linalg.solve(H, x.grad)\n",
    "      x = x + p\n",
    "    \n",
    "    trace.append(x.detach().numpy())\n",
    "    x.requires_grad = True\n",
    "    f.zero_grad()\n",
    "    k += 1\n",
    "  # compute the Wolfe condition\n",
    "  return trace\n",
    "\n",
    "objective_function = quadratic_form(d)\n",
    "x0 = torch.tensor([[10.],[10.]], requires_grad=True)\n",
    "trace = newton_method(objective_function, x0)"
   ]
  },
  {
   "cell_type": "code",
   "execution_count": 492,
   "metadata": {},
   "outputs": [
    {
     "data": {
      "image/png": "[encoded data removed]",
      "text/plain": [
       "<Figure size 540x396 with 2 Axes>"
      ]
     },
     "metadata": {
      "needs_background": "light"
     },
     "output_type": "display_data"
    }
   ],
   "source": [
    "trace = np.array(trace)\n",
    "bounds = [np.amin(trace[:,0]) - 1., np.amax(trace[:,0]) + 1., np.amin(trace[:,1]) - 1., np.amax(trace[:,1]) + 1.]\n",
    "plot_minimizier(objective_function, bounds=bounds, trace=trace)"
   ]
  },
  {
   "cell_type": "markdown",
   "metadata": {},
   "source": [
    "As we can see, the Newton method converged to the minimum in one step. This is hardly surprising as we have essentially approximated a quadratic form with a itself. As such, we find the global minimum in one step. Let us see how this method performs on the Rosenbrock function."
   ]
  },
  {
   "cell_type": "code",
   "execution_count": 493,
   "metadata": {},
   "outputs": [
    {
     "data": {
      "image/png": "[encoded data removed]",
      "text/plain": [
       "<Figure size 540x396 with 2 Axes>"
      ]
     },
     "metadata": {
      "needs_background": "light"
     },
     "output_type": "display_data"
    }
   ],
   "source": [
    "objective_function = rosenbrock_function()\n",
    "\n",
    "x0 = torch.tensor([[-1.],[1.]], requires_grad=True)\n",
    "trace = newton_method(objective_function, x0)\n",
    "\n",
    "trace = np.array(trace)\n",
    "bounds = [np.amin(trace[:,0]) - 1., np.amax(trace[:,0]) + 1., np.amin(trace[:,1]) - 1., np.amax(trace[:,1]) + 1.]\n",
    "plot_minimizier(objective_function, bounds=bounds, trace=trace)"
   ]
  },
  {
   "cell_type": "markdown",
   "metadata": {},
   "source": [
    "The Newton method converges to the desired solution in only two iterations, completely avoiding the previous problem. So, if the Newton method performs so well, why do we not always use it? The improved performance of the Newton method comes at the cost of evaluating the $d \\times d$ Hessian matrix $\\nabla^2 f(x)$ at each iteration and solving the linear system $\\nabla^2 f(x) \\, p^* = -  \\nabla f(x)$. While this alone can be fairly prohibitive, there is also the question of regularity, as $f$ may not necessarily be smooth enough to have a Hessian everywhere. In other words, a local approximation with a quadratic form may not necessarily be a good approximation in such cases.\n",
    "\n",
    "Some algorithms try to alleviate the former problem of having to form the Hessian by only approximating it. This can be done in the gradient descent approach, by keeping track of the chenge in the descent direction and using this information to approximate the Hessian. The latter problem of insufficient regularity can be addressed by switching between line search approaches and trust region methods depending on the local smoothness of $f$."
   ]
  },
  {
   "cell_type": "markdown",
   "metadata": {},
   "source": [
    "## Analogy to linear systems\n",
    "\n",
    "Coming from numerical linear algebra, I couldn't resist to introduce some linear algebra. A central problem of numerical linear algebra is the solution of linear systems of the form $Ax = b$, where $A \\in \\mathbb{R}^{m \\times m}$ and $x, b \\in \\mathbb{R}^m$. We note that in this formulation, the problem may have either exactly one solution, infinitely many, or none at all. We can re-cast this problem by defining the objective function\n",
    "\n",
    "$$f(x) = x^T A x - 2 x^T b.$$\n",
    "\n",
    "\n",
    "\n",
    "... Why is this interesting? There are numberous algorithms for the solution of linear systems. It is only reasonable that some of them may therefore be understood as minimization algorithms with respect to $f$, therefore giving us alternative optimization algorithms."
   ]
  },
  {
   "cell_type": "markdown",
   "metadata": {},
   "source": [
    "## Conclusion\n",
    "\n",
    "Numerical optimization is a fascinating field and we have not even discussed convergence properties and more sophisticated algorithms. With the recent explosion of non-linear machine learning models, It is evident, that numerical optimization will be one of the core tools in the \n",
    "\n",
    "In the following, I have included some references that I found useful, as well as references for further reading. Enjoy, and until next time!\n",
    "## References"
   ]
  },
  {
   "cell_type": "code",
   "execution_count": null,
   "metadata": {},
   "outputs": [],
   "source": []
  }
 ],
 "metadata": {
  "interpreter": {
   "hash": "ac2eaa0ea0ebeafcc7822e65e46aa9d4f966f30b695406963e145ea4a91cd4fc"
  },
  "kernelspec": {
   "display_name": "Python 3.9.6 64-bit",
   "name": "python3"
  },
  "language_info": {
   "codemirror_mode": {
    "name": "ipython",
    "version": 3
   },
   "file_extension": ".py",
   "mimetype": "text/x-python",
   "name": "python",
   "nbconvert_exporter": "python",
   "pygments_lexer": "ipython3",
   "version": "3.9.9"
  },
  "orig_nbformat": 4
 },
 "nbformat": 4,
 "nbformat_minor": 2
}
